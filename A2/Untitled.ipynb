{
 "cells": [
  {
   "cell_type": "code",
   "execution_count": 3,
   "metadata": {
    "scrolled": false
   },
   "outputs": [
    {
     "name": "stdout",
     "output_type": "stream",
     "text": [
      "http://138.197.184.35/boliga/9990_1.html\n",
      "getting here\n",
      "http://138.197.184.35/boliga/9990_2.html\n",
      "http://138.197.184.35/boliga/9990_3.html\n",
      "http://138.197.184.35/boliga/9990_4.html\n",
      "http://138.197.184.35/boliga/9990_5.html\n",
      "http://138.197.184.35/boliga/9990_6.html\n",
      "http://138.197.184.35/boliga/9990_7.html\n",
      "http://138.197.184.35/boliga/9990_8.html\n",
      "http://138.197.184.35/boliga/9990_9.html\n",
      "http://138.197.184.35/boliga/9990_10.html\n",
      "http://138.197.184.35/boliga/9990_11.html\n",
      "http://138.197.184.35/boliga/9990_12.html\n",
      "http://138.197.184.35/boliga/9990_13.html\n",
      "http://138.197.184.35/boliga/9990_14.html\n",
      "http://138.197.184.35/boliga/9990_15.html\n",
      "http://138.197.184.35/boliga/9990_16.html\n",
      "http://138.197.184.35/boliga/9990_17.html\n",
      "http://138.197.184.35/boliga/9990_18.html\n",
      "http://138.197.184.35/boliga/9990_19.html\n",
      "http://138.197.184.35/boliga/9990_20.html\n",
      "http://138.197.184.35/boliga/9990_21.html\n",
      "http://138.197.184.35/boliga/9990_22.html\n",
      "http://138.197.184.35/boliga/9990_23.html\n",
      "http://138.197.184.35/boliga/9990_24.html\n",
      "http://138.197.184.35/boliga/9990_25.html\n",
      "http://138.197.184.35/boliga/9990_26.html\n",
      "http://138.197.184.35/boliga/9990_27.html\n",
      "http://138.197.184.35/boliga/9990_28.html\n",
      "http://138.197.184.35/boliga/9990_29.html\n",
      "http://138.197.184.35/boliga/9990_30.html\n",
      "http://138.197.184.35/boliga/9990_31.html\n",
      "http://138.197.184.35/boliga/9990_32.html\n",
      "http://138.197.184.35/boliga/9990_33.html\n",
      "http://138.197.184.35/boliga/9990_34.html\n",
      "http://138.197.184.35/boliga/9990_35.html\n",
      "http://138.197.184.35/boliga/9990_36.html\n",
      "http://138.197.184.35/boliga/9990_37.html\n",
      "http://138.197.184.35/boliga/9990_38.html\n",
      "http://138.197.184.35/boliga/9990_39.html\n",
      "http://138.197.184.35/boliga/9990_40.html\n",
      "http://138.197.184.35/boliga/9990_41.html\n",
      "http://138.197.184.35/boliga/9990_42.html\n",
      "http://138.197.184.35/boliga/9990_43.html\n",
      "http://138.197.184.35/boliga/9990_44.html\n",
      "http://138.197.184.35/boliga/9990_45.html\n",
      "http://138.197.184.35/boliga/9990_46.html\n",
      "http://138.197.184.35/boliga/9990_47.html\n",
      "http://138.197.184.35/boliga/9990_48.html\n",
      "http://138.197.184.35/boliga/9990_49.html\n",
      "http://138.197.184.35/boliga/9990_50.html\n",
      "http://138.197.184.35/boliga/9990_51.html\n",
      "http://138.197.184.35/boliga/9990_52.html\n",
      "http://138.197.184.35/boliga/9990_53.html\n",
      "http://138.197.184.35/boliga/9990_54.html\n",
      "http://138.197.184.35/boliga/9990_55.html\n",
      "http://138.197.184.35/boliga/9990_56.html\n",
      "http://138.197.184.35/boliga/9990_57.html\n",
      "http://138.197.184.35/boliga/9990_58.html\n",
      "http://138.197.184.35/boliga/9990_59.html\n",
      "http://138.197.184.35/boliga/9990_60.html\n",
      "http://138.197.184.35/boliga/9990_61.html\n",
      "http://138.197.184.35/boliga/9990_62.html\n",
      "http://138.197.184.35/boliga/9990_63.html\n",
      "http://138.197.184.35/boliga/9990_64.html\n",
      "http://138.197.184.35/boliga/9990_65.html\n",
      "http://138.197.184.35/boliga/9990_66.html\n",
      "http://138.197.184.35/boliga/9990_67.html\n",
      "http://138.197.184.35/boliga/9990_68.html\n",
      "http://138.197.184.35/boliga/9990_69.html\n",
      "http://138.197.184.35/boliga/9990_70.html\n",
      "http://138.197.184.35/boliga/9990_71.html\n",
      "http://138.197.184.35/boliga/9990_72.html\n",
      "http://138.197.184.35/boliga/9990_73.html\n",
      "http://138.197.184.35/boliga/9990_74.html\n",
      "http://138.197.184.35/boliga/9990_75.html\n",
      "http://138.197.184.35/boliga/9990_76.html\n",
      "http://138.197.184.35/boliga/9990_77.html\n",
      "http://138.197.184.35/boliga/9990_78.html\n",
      "http://138.197.184.35/boliga/9990_79.html\n",
      "http://138.197.184.35/boliga/9990_80.html\n",
      "http://138.197.184.35/boliga/9990_81.html\n",
      "http://138.197.184.35/boliga/9990_82.html\n",
      "./data/out\\.csv\n"
     ]
    }
   ],
   "source": [
    "a2.run()"
   ]
  },
  {
   "cell_type": "code",
   "execution_count": 2,
   "metadata": {},
   "outputs": [],
   "source": [
    "import a2"
   ]
  },
  {
   "cell_type": "code",
   "execution_count": 6,
   "metadata": {},
   "outputs": [
    {
     "name": "stdout",
     "output_type": "stream",
     "text": [
      "Couldn't find program: 'bash'\n"
     ]
    }
   ],
   "source": [
    "    \n",
    "    %%bash\n",
    "    $ find . -name '/data/out/*.csv' | xargs wc -l"
   ]
  },
  {
   "cell_type": "code",
   "execution_count": null,
   "metadata": {
    "collapsed": true
   },
   "outputs": [],
   "source": []
  }
 ],
 "metadata": {
  "kernelspec": {
   "display_name": "Python 3",
   "language": "python",
   "name": "python3"
  },
  "language_info": {
   "codemirror_mode": {
    "name": "ipython",
    "version": 3
   },
   "file_extension": ".py",
   "mimetype": "text/x-python",
   "name": "python",
   "nbconvert_exporter": "python",
   "pygments_lexer": "ipython3",
   "version": "3.6.1"
  }
 },
 "nbformat": 4,
 "nbformat_minor": 2
}
